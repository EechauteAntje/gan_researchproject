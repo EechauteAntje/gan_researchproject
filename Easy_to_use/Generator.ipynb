{
 "cells": [
  {
   "attachments": {},
   "cell_type": "markdown",
   "metadata": {},
   "source": [
    "# Generate Jazz music with this notebook\n",
    "\n",
    "In this note book you can generate jazz music with the help of musegan"
   ]
  },
  {
   "attachments": {},
   "cell_type": "markdown",
   "metadata": {},
   "source": [
    "make a conda environment with python 3.6"
   ]
  },
  {
   "attachments": {},
   "cell_type": "markdown",
   "metadata": {},
   "source": [
    "You have to install:\n",
    "- cudatoolkit\n",
    "- cudnn\n",
    "- tensorflow\n",
    "- music21\n",
    "- imageio\n",
    "- matplotlib\n",
    "- scikit-learn"
   ]
  },
  {
   "attachments": {},
   "cell_type": "markdown",
   "metadata": {},
   "source": [
    "run all of the imports."
   ]
  },
  {
   "cell_type": "code",
   "execution_count": 1,
   "metadata": {},
   "outputs": [
    {
     "name": "stderr",
     "output_type": "stream",
     "text": [
      "c:\\Users\\antje\\anaconda3\\envs\\gan\\lib\\site-packages\\requests\\__init__.py:104: RequestsDependencyWarning: urllib3 (1.26.14) or chardet (5.0.0)/charset_normalizer (2.0.12) doesn't match a supported version!\n",
      "  RequestsDependencyWarning)\n"
     ]
    }
   ],
   "source": [
    "from music21 import converter, instrument, note, chord, stream\n",
    "import sys\n",
    "import numpy as np\n",
    "from imageio import imwrite\n",
    "\n",
    "from PIL import Image\n",
    "\n",
    "from numpy import zeros\n",
    "from numpy import ones\n",
    "from numpy import vstack\n",
    "from numpy.random import randn\n",
    "from numpy.random import randint\n",
    "from tensorflow.keras.datasets.mnist import load_data\n",
    "from tensorflow.keras.optimizers import Adam\n",
    "from tensorflow.keras.models import Sequential\n",
    "from tensorflow.keras.layers import Dense\n",
    "from tensorflow.keras.layers import Reshape\n",
    "from tensorflow.keras.layers import Flatten,BatchNormalization\n",
    "from tensorflow.keras.layers import Conv2D, MaxPooling2D, UpSampling2D, Input\n",
    "from tensorflow.keras.layers import Conv2DTranspose\n",
    "from tensorflow.keras.layers import LeakyReLU\n",
    "from tensorflow.keras.layers import Dropout\n",
    "from tensorflow.keras.models import Model\n",
    "from tensorflow.keras.optimizers import Adagrad\n",
    "from matplotlib import pyplot\n",
    "from IPython.display import clear_output\n",
    "import tensorflow as tf\n",
    "from tensorflow.keras import layers\n",
    "import numpy as np\n",
    "import os\n",
    "import matplotlib.pyplot as plt\n",
    "\n",
    "from tensorflow.keras.models import load_model\n",
    "import pickle\n",
    "from decimal import Decimal\n",
    "import re\n",
    "\n",
    "import glob\n",
    "import random\n",
    "\n",
    "from sklearn.decomposition import PCA\n"
   ]
  },
  {
   "attachments": {},
   "cell_type": "markdown",
   "metadata": {},
   "source": [
    "Load the model and the data"
   ]
  },
  {
   "cell_type": "code",
   "execution_count": 2,
   "metadata": {},
   "outputs": [
    {
     "name": "stdout",
     "output_type": "stream",
     "text": [
      "(106, 106)\n",
      "(200, 106, 106, 1)\n",
      "[0. 1.]\n"
     ]
    }
   ],
   "source": [
    "# load pixel values from a file\n",
    "with open('./files/pixels.pkl', 'rb') as f:\n",
    "    pixels = pickle.load(f)\n",
    "\n",
    "# load images from a file\n",
    "with open('./files/imgs.pkl', 'rb') as f:\n",
    "    imgs = pickle.load(f)\n",
    "\n",
    "# if you get the following result, you are good to go\n",
    "print(imgs[0].size) # (106, 106, 1)\n",
    "print(pixels.shape) # (200, 106, 106, 1)\n",
    "print(np.unique(pixels)) # [0. 1.]"
   ]
  },
  {
   "cell_type": "code",
   "execution_count": 4,
   "metadata": {},
   "outputs": [
    {
     "name": "stdout",
     "output_type": "stream",
     "text": [
      "WARNING:tensorflow:No training configuration found in the save file, so the model was *not* compiled. Compile it manually.\n",
      "WARNING:tensorflow:Error in loading the saved optimizer state. As a result, your model is starting with a freshly initialized optimizer.\n"
     ]
    }
   ],
   "source": [
    "# load model\n",
    "g_model = load_model('./files/cgan_generator.h5')\n",
    "d_model = load_model('./files/cgan_discriminator.h5')\n",
    "gan_model = load_model('./files/cgan_gan.h5')"
   ]
  },
  {
   "attachments": {},
   "cell_type": "markdown",
   "metadata": {},
   "source": [
    "### Generate the music. \n",
    "This generates a random music piece."
   ]
  },
  {
   "cell_type": "code",
   "execution_count": 5,
   "metadata": {},
   "outputs": [],
   "source": [
    "latent_dim = 100\n",
    "n_samples = 5"
   ]
  },
  {
   "cell_type": "code",
   "execution_count": 6,
   "metadata": {},
   "outputs": [
    {
     "name": "stdout",
     "output_type": "stream",
     "text": [
      "(5, 106, 106, 1)\n"
     ]
    }
   ],
   "source": [
    "def generate_latent_points(latent_dim, n_samples):\n",
    "    x_input = randn(latent_dim * n_samples)\n",
    "    x_input = x_input.reshape(n_samples, latent_dim)\n",
    "    return x_input\n",
    "model = g_model\n",
    "latent_points = generate_latent_points(latent_dim,n_samples)\n",
    "X = g_model.predict(latent_points)\n",
    "print(X.shape)\n",
    "for i in range(n_samples):\n",
    "    array = np.array(X[i].reshape(106,106),dtype = np.uint8)\n",
    "    array*= 255\n",
    "    new_image = Image.fromarray(array,'L')\n",
    "    new_image = new_image.save(f'./compositions/composition{i}.png')"
   ]
  },
  {
   "attachments": {},
   "cell_type": "markdown",
   "metadata": {},
   "source": [
    "This converts png file to midi file. The midi files are in the folder compositions. The filename looks like this: \n",
    "- composition[number of different midifiles].mid"
   ]
  },
  {
   "cell_type": "code",
   "execution_count": 7,
   "metadata": {},
   "outputs": [],
   "source": [
    "lowerBoundNote = 21\n",
    "def column2notes(column):\n",
    "    notes = []\n",
    "    for i in range(len(column)):\n",
    "        if column[i] > 255/2:\n",
    "            notes.append(i+lowerBoundNote)\n",
    "    return notes\n",
    "\n",
    "resolution = 0.25\n",
    "def updateNotes(newNotes,prevNotes): \n",
    "    res = {} \n",
    "    for note in newNotes:\n",
    "        if note in prevNotes:\n",
    "            res[note] = prevNotes[note] + resolution\n",
    "        else:\n",
    "            res[note] = resolution\n",
    "    return res\n",
    "\n",
    "def image2midi(image_path):\n",
    "    with Image.open(image_path) as image:\n",
    "        im_arr = np.frombuffer(image.tobytes(), dtype=np.uint8)\n",
    "        try:\n",
    "            im_arr = im_arr.reshape((image.size[1], image.size[0]))\n",
    "        except:\n",
    "            im_arr = im_arr.reshape((image.size[1], image.size[0],3))\n",
    "            im_arr = np.dot(im_arr, [0.33, 0.33, 0.33])\n",
    "            print(\"Image is not grayscale, converting to grayscale\")\n",
    "\n",
    "    \"\"\" convert the output from the prediction to notes and create a midi file\n",
    "        from the notes \"\"\"\n",
    "    offset = 0\n",
    "    output_notes = []\n",
    "\n",
    "    # create note and chord objects based on the values generated by the model\n",
    "\n",
    "    prev_notes = updateNotes(im_arr.T[0,:],{})\n",
    "    for column in im_arr.T[1:,:]:\n",
    "        notes = column2notes(column)\n",
    "        # pattern is a chord\n",
    "        notes_in_chord = notes\n",
    "        old_notes = prev_notes.keys()\n",
    "        for old_note in old_notes:\n",
    "            if not old_note in notes_in_chord:\n",
    "                new_note = note.Note(old_note,quarterLength=prev_notes[old_note])\n",
    "                new_note.storedInstrument = instrument.Piano()\n",
    "                if offset - prev_notes[old_note] >= 0:\n",
    "                    new_note.offset = offset - prev_notes[old_note]\n",
    "                    output_notes.append(new_note)\n",
    "                elif offset == 0:\n",
    "                    new_note.offset = offset\n",
    "                    output_notes.append(new_note)                    \n",
    "                else:\n",
    "                    print(offset,prev_notes[old_note],old_note)\n",
    "\n",
    "        prev_notes = updateNotes(notes_in_chord,prev_notes)\n",
    "\n",
    "        # increase offset each iteration so that notes do not stack\n",
    "        offset += resolution\n",
    "\n",
    "    for old_note in prev_notes.keys():\n",
    "        new_note = note.Note(old_note,quarterLength=prev_notes[old_note])\n",
    "        new_note.storedInstrument = instrument.Piano()\n",
    "        new_note.offset = offset - prev_notes[old_note]\n",
    "\n",
    "        output_notes.append(new_note)\n",
    "\n",
    "    prev_notes = updateNotes(notes_in_chord,prev_notes)\n",
    "\n",
    "    midi_stream = stream.Stream(output_notes)\n",
    "\n",
    "    midi_stream.write('midi', fp='./compositions/'+image_path.split(\"/\")[-1].replace(\".png\",\".mid\"))\n",
    "\n",
    "for i in range(n_samples):\n",
    "    image2midi(f'./compositions/composition{i}.png')"
   ]
  },
  {
   "attachments": {},
   "cell_type": "markdown",
   "metadata": {},
   "source": [
    "Plays the midi samples "
   ]
  },
  {
   "cell_type": "code",
   "execution_count": 8,
   "metadata": {},
   "outputs": [
    {
     "data": {
      "text/html": [
       "\n",
       "                <div id='midiPlayerDiv7587'></div>\n",
       "                <link rel=\"stylesheet\" href=\"//cuthbertLab.github.io/music21j/css/m21.css\"\n",
       "                    type=\"text/css\" />\n",
       "                <script>\n",
       "                require.config({\n",
       "                    paths: {'music21': '//cuthbertLab.github.io/music21j/src/music21'}\n",
       "                });\n",
       "                require(['music21'], function() {\n",
       "                               mp = new music21.miditools.MidiPlayer();\n",
       "                               mp.addPlayer('#midiPlayerDiv7587');\n",
       "                               mp.base64Load('data:audio/midi;base64,TVRoZAAAAAYAAQACBABNVHJrAAAAFAD/UQMHoSAA/1gEBAIYCIgA/y8ATVRyawAABMMA/wMAAOAAQADAAIgAkDxaAJB7WgCQG1oAkB1aAJBpWgCQZ1qCAIA8AACAewAAgBsAAIAdAACAaQCCAJAbWgCQaVqCAIAbAACAaQAAkEtaAJBzWgCQU1qCAIBLAACAcwAAkEVaAJBHWgCQSVoAkGlaggCAZwAAgFMAAIBFAACARwAAgEkAAIBpAACQS1qCAJArWgCQR1oAkElaggCAKwAAgEcAAIBJAIIAkClaAJArWgCQTVqCAIApAACAKwCCAJAZWgCQO1qCAIAZAIQAgDsAAJA3WoQAgE0AAJA5WoIAgEsAAIA5AIIAkDlahACQQ1qCAJA1WoIAgDUAAJBPWgCQQVqCAIBPAACQW1qCAIA3AACAOQAAgEMAAIBBAACAWwAAkFFaAJBPWoIAkDlaAJBWWgCQW1qCAIA5AACAVgAAgFsAggCQfVqCAIBRAACAfQCCAJA9WgCQP1oAkH1aggCAPQAAgD8AAIB9AACQUVoAkFNaggCAUQAAgFMAAJA/WgCQS1qCAIA/AIIAgEsAAJApWgCQK1oAkFFaAJBTWgCQVlqCAIBPAACAKQAAgCsAAIBRAACAUwAAgFYAggCQKVoAkCtaAJAzWgCQTVoAkE9aggCAKQAAgCsAAIAzAACATQAAgE8AAJBBWoIAgEEAAJBNWgCQaVqCAIBNAACAaQAAkEFahACQQ1oAkEdaAJBFWoIAgEEAAIBDAACQSVoAkF1aggCARwAAgEkAAIBdAACQQ1oAkDVaggCAQwAAkEdaAJBdWoIAgEUAAIBHAACAXQCCAJBDWgCQXVoAkF9aAJBBWoIAgEMAAIBdAACAXwAAkFNaggCQRVoAkEdaAJBRWgCQQ1qCAIBFAACARwCCAIBRAACQRVqCAIA1AACARQAAkFFaggCAUQCCAIBDAACQUVqIAIBBAACQTVqEAIBNAACQS1qIAJA3WgCQSVqCAIBRAACASwAAgDcAAJBDWgCQRVqCAIBDAACQN1oAkFFaggCQR1qCAJA1WoQAgFMAAIBJAACANwAAgFEAggCARQCCAJBFWoIAgEUAAJAzWgCQYVqCAIA1AACAMwAAgGEAAJBFWgCQbVqCAJAzWoIAgEcAAIBFAACAMwAAkGtaAJBPWgCQW1oAkD1aAJBRWoIAgGsAAJBFWgCQR1qCAIBFAACARwAAkGtaAJA7WgCQU1qEAIBtAACATwAAgFsAAJBfWoIAkHVaAJBzWoIAgD0AAIBrAACAdQAAkE9aggCATwAAkD1aggCAOwAAgHMAAIA9AACQT1oAkENaggCATwAAkHNaAJBhWgCQP1qCAIBzAACQQVqCAIBfAACQT1oAkFVaggCAUQAAgFMAAIBPAACAVQCCAIBhAACQS1oAkE1aAJBPWgCQUloAkFVaggCASwAAgE0AAIBPAACAUgAAgFUAAJBhWoIAgEMAAIBhAACQM1oAkDVaAJBXWoIAgEEAAIAzAACANQAAkD1aggCQQVqCAIBBAACQJVqEAIBXAIIAgD0AggCAPwCEAIAlAIIAkHNaggCAcwCCAJBzWgCQKVqCAIBzAACQQ1oAkEdaAJBJWoIAgCkAggCQW1qCAJBFWoIAgEMAAIBHAACASQAAgFsAAIBFAIgA/y8A');\n",
       "                        });\n",
       "                </script>"
      ],
      "text/plain": [
       "<IPython.core.display.HTML object>"
      ]
     },
     "metadata": {},
     "output_type": "display_data"
    },
    {
     "data": {
      "text/html": [
       "\n",
       "                <div id='midiPlayerDiv10530'></div>\n",
       "                <link rel=\"stylesheet\" href=\"//cuthbertLab.github.io/music21j/css/m21.css\"\n",
       "                    type=\"text/css\" />\n",
       "                <script>\n",
       "                require.config({\n",
       "                    paths: {'music21': '//cuthbertLab.github.io/music21j/src/music21'}\n",
       "                });\n",
       "                require(['music21'], function() {\n",
       "                               mp = new music21.miditools.MidiPlayer();\n",
       "                               mp.addPlayer('#midiPlayerDiv10530');\n",
       "                               mp.base64Load('data:audio/midi;base64,TVRoZAAAAAYAAQACBABNVHJrAAAAFAD/UQMHoSAA/1gEBAIYCIgA/y8ATVRyawAABN0A/wMAAOAAQADAAIgAkDxaAJB7WgCQQVqCAIA8AACAewAAkD9ahACQHVqCAJAxWoIAgEEAAIAdAACQV1qCAJAdWgCQPVqCAIA/AACAHQAAgD0AAJB9WoIAkD1aggCAVwAAgD0AggCQV1oAkG9aggCAVwAAgG8AAJB7WgCQeVoAkENaggCQJVoAkG9aAJBZWoIAgH0AAIB7AACAJQAAgG8AAJBBWoIAgDEAggCAeQAAkDdaggCAQwAAkFtaAJB3WoIAgFkAAIBbAACAdwAAkDVahACANwAAkD9aggCAPwAAkENaggCAQQCCAIA1AACQRVqCAJA1WgCQT1qCAIA1AACQOloAkDdaggCAOgCCAJA1WgCQOloAkFFaggCANwAAgDUAAIA6AACQSloAkE1aggCAQwAAkDVaggCATwAAgFEAAIBKAACANQAAkENaAJAhWgCQQVoAkD9aggCQSFoAkEpaAJBPWgCQUVqCAIBFAACATQAAgEMAAIBIAACASgAAgE8AAIBRAIIAkENaAJBNWoIAgCEAAIBBAACAQwAAgE0AAJA9WoIAkEJaAJBNWoIAgEIAAIBNAIIAkCtaggCAKwAAkGVaAJBXWoIAgD0AAIBlAACQK1qCAIArAACQVVoAkGVaggCAVQAAkDNaAJA1WoIAgFcAAIBlAACQPVoAkFVaggCAPQCCAIBVAACQPVqCAJBVWgCQU1qCAIA/AACAMwAAgDUAAIBVAIIAkDtaAJBRWoIAgD0AggCQTVqCAJA9WgCQQ1qCAIA7AACAPQAAgEMAAJBPWoIAgFMAAIBRAACATwAAkD1aAJA7WgCQQ1oAkDlaggCAPQAAkE9aAJBRWoIAgE0AAIBPAACAUQCCAJA9WgCQQFoAkDdaggCAOwAAgEMAAIA9AACAQACCAIA3AACQO1oAkD1aggCAOwAAgD0AAJA3WoIAgDcAAJA9WgCQO1qCAIA5AACAPQCCAJA9WgCQQFqCAIA9AACAQACCAJAxWgCQNVqCAIAxAACQRVqCAIBFAACQT1oAkE1aggCATwCCAJBpWoIAgDsAAIBNAACAaQAAkF1ahACQW1qCAJBZWoIAgDUAAIBdAIQAkE1aggCAWwAAgE0AggCQTVoAkEtaggCQT1oAkFFaAJBUWoIAgFkAAIBNAACATwAAgFEAAIBUAIIAkFFaAJBPWoIAgFEAAJA7WgCQbVoAkElaggCASwAAgDsAAIBtAACQfVqCAIBPAACQOVoAkDtaAJBHWoIAkG1aggCASQAAgDkAAIA7AACARwAAgG0AggCQOVoAkDxaAJA/WgCQRVoAkDdaggCAOQAAgDwAAIA/AACARQAAkENaggCQXVoAkD9aggCAfQAAkDVaAJBBWoIAgDcAAIBDAACANQAAgEEAggCAXQAAkENaAJA3WgCQNVqCAIBDAACQXVqCAIA3AACAXQAAkC1aAJAlWoIAkC9aAJAyWgCQN1oAkENaggCANQAAgC0AAIAvAACAMgAAgDcAAIBDAIIAkC1aAJA3WoIAgD8AAIAtAACANwAAkCNahACAIwAAkEVaggCARQCCAIAlAACQQ1oAkEVaggCAQwCCAJBDWgCQR1qCAJA/WoIAgEUAAIA/AACQQVqCAJA/WoIAgEMAAIBHAACAQQAAgD8AiAD/LwA=');\n",
       "                        });\n",
       "                </script>"
      ],
      "text/plain": [
       "<IPython.core.display.HTML object>"
      ]
     },
     "metadata": {},
     "output_type": "display_data"
    },
    {
     "data": {
      "text/html": [
       "\n",
       "                <div id='midiPlayerDiv13441'></div>\n",
       "                <link rel=\"stylesheet\" href=\"//cuthbertLab.github.io/music21j/css/m21.css\"\n",
       "                    type=\"text/css\" />\n",
       "                <script>\n",
       "                require.config({\n",
       "                    paths: {'music21': '//cuthbertLab.github.io/music21j/src/music21'}\n",
       "                });\n",
       "                require(['music21'], function() {\n",
       "                               mp = new music21.miditools.MidiPlayer();\n",
       "                               mp.addPlayer('#midiPlayerDiv13441');\n",
       "                               mp.base64Load('data:audio/midi;base64,TVRoZAAAAAYAAQACBABNVHJrAAAAFAD/UQMHoSAA/1gEBAIYCIgA/y8ATVRyawAABH0A/wMAAOAAQADAAIgAkDxaAJB7WgCQUVoAkHVaAJBHWoIAgDwAAIB7AACAUQCCAJBJWgCQTFoAkHdaggCASQAAgEwAAIB3AACQO1oAkDlaAJBFWgCQN1qCAJAfWgCQSVoAkHdaggCAHwAAgEkAAIB3AIQAgHUAAJAtWgCQQ1qCAIBHAIIAgDsAggCQT1qCAIA5AACARQAAgC0AAIBPAACQHVqCAJBNWgCQNVqCAIAdAIIAgE0AAJAdWoIAgDcAAIAdAACQP1oAkE1aAJBLWoIAgEMAAIA1AACAPwAAgE0AggCQQ1oAkE1aggCQPVoAkEZaggCAQwAAgE0AAIA9AACARgAAkGFaAJAdWoIAgGEAAJBDWgCQRloAkE1aAJAfWgCQSVqCAIBDAACARgAAgE0AAJBhWoIAkGNaggCAYQAAgGMAggCQYVoAkGNaggCAYQAAgGMAggCAHQAAkFFaggCAHwAAgFEAggCQUVoAkDtaggCAUQAAkCFaAJA5WoIAgCEAggCASwAAgEkAAJAhWoIAkD5aAJBJWgCQS1oAkEFaggCAOwAAgCEAAIA+AACASQAAgEsAAJAvWoIAgDkAAIAvAACQIVoAkDtaggCAIQAAkC9aggCQLVqCAIAvAACALQCCAJAzWgCQR1qCAIBBAACAMwAAkFFaggCQM1oAkEVaAJBTWoIAgEcAAIAzAACARQCCAJBHWoIAgEcAAJBPWgCQOVqCAIBPAACQSVqCAIBRAACAUwAAkG1aAJBLWoIAkFNaAJBdWoIAgG0AAIBTAIIAkFFaAJBTWgCQbVoAkG9aggCASQAAgFEAAIBTAACAbQAAgG8AggCQTVqCAIBNAACQW1qCAIA7AACQTVqCAIBLAACAXQAAgE0AAJBBWgCQP1qCAJBdWgCQZ1qCAIBbAACAXQAAkDdaggCANwCCAIBBAACAZwAAkDdaggCQV1qCAIBXAIQAgDkAAIA/AACANwCCAJA/WoIAgD8AAJBDWoIAkD9aAJBBWoIAgD8AAJA1WoIAkE1aAJA/WoIAgEMAAIA1AACATQCCAJBDWoIAgEMAAJBNWoQAgEEAAJBLWoQAkElaAJA9WoIAgE0AAJAhWoIAgD8AAIAhAIIAkCFaAJBHWoIAgEsAAIAhAIIAgEcAAJBLWgCQeVqCAIBLAACAeQAAkEdaAJBVWoIAkDFaAJB5WoIAgEkAAIBHAACAMQAAgHkAAJA/WoIAkEdaAJBJWoIAgD0AAIA/AACARwAAgEkAggCQIVoAkEFaggCAVQAAgCEAggCQVVoAkG9aAJA5WoIAgFUAAIBvAIIAgDkAAJBvWoIAgG8AAJA5WoIAgDkAAJBDWgCQR1qCAIBDAACARwAAkDlaggCAOQCCAIBBAACQOVqCAJBBWgCQN1oAkEVaggCAQQAAkEdaggCQH1qCAIA5AACANwAAgB8AggCQHVoAkB9aggCAHQAAgB8AggCQHVqEAIAdAIIAkD1aAJB3WoIAkB1aggCARQAAgEcAAIA9AACAdwAAgB0AiAD/LwA=');\n",
       "                        });\n",
       "                </script>"
      ],
      "text/plain": [
       "<IPython.core.display.HTML object>"
      ]
     },
     "metadata": {},
     "output_type": "display_data"
    },
    {
     "data": {
      "text/html": [
       "\n",
       "                <div id='midiPlayerDiv16287'></div>\n",
       "                <link rel=\"stylesheet\" href=\"//cuthbertLab.github.io/music21j/css/m21.css\"\n",
       "                    type=\"text/css\" />\n",
       "                <script>\n",
       "                require.config({\n",
       "                    paths: {'music21': '//cuthbertLab.github.io/music21j/src/music21'}\n",
       "                });\n",
       "                require(['music21'], function() {\n",
       "                               mp = new music21.miditools.MidiPlayer();\n",
       "                               mp.addPlayer('#midiPlayerDiv16287');\n",
       "                               mp.base64Load('data:audio/midi;base64,TVRoZAAAAAYAAQACBABNVHJrAAAAFAD/UQMHoSAA/1gEBAIYCIgA/y8ATVRyawAABWYA/wMAAOAAQADAAIgAkDxaAJB7WgCQQVoAkFNaAJBnWgCQaVoAkGtaAJB1WoIAgDwAAIB7AACAQQAAgFMAAIBnAACAaQAAgGsAggCQQVoAkGlaAJB3WgCQOVqCAIBBAACAaQAAgHcAggCQd1qCAIB1AACAdwCCAJAtWgCQdVqCAIAtAACAdQCCAJBHWoIAgEcAAJA3WoQAkH1aggCAfQAAkDVaggCQfVqCAIA5AACAfQAAkE9aggCANwAAgDUAAJA5WgCQb1qCAIA5AACAbwAAkHFaggCQN1oAkDlaAJBvWoIAgE8AAIA3AACAOQAAkFlaggCQN1qCAJA5WgCQO1oAkH1aggCAbwAAgDkAAJBNWgCQS1qCAJA9WgCQQFoAkFtaAJBvWoIAgHEAAIA9AACAQAAAgFsAAJBDWgCQV1qCAJAnWgCQKVoAkEZaggCAWQAAgE0AAIBDAACAVwAAgCcAAIApAACARgAAkDVaggCQJ1oAkClaAJBJWgCQV1oAkHtaggCANwAAgDsAAIBLAACAJwAAgCkAAIBJAACAVwAAgHsAggCQN1oAkDtaAJA9WgCQQloAkElaAJBLWgCQe1qCAIB9AACANwAAgDsAAIA9AACAQgAAgEkAAIBLAACAewAAkG1aggCAbQAAkDdaAJA/WgCQS1qCAIA1AACANwAAgD8AAIBLAACQbVoAkGtaggCQN1qCAIBvAACANwCCAJA1WgCQU1oAkE1aAJBPWoIAgG0AAIA1AACAUwAAkFFaggCQaVqCAIBrAACAaQAAkDVaAJA3WoIAgDUAAIA3AIIAkDVaAJA3WgCQRVqCAJBHWgCQSlqCAIBHAACASgCCAJBHWgCQSFoAkEpaAJBUWgCQVlqCAIBNAACAUQAAgEcAAIBIAACASgAAgFQAAIBWAACQM1qCAJBRWgCQWVqCAIBRAIIAkEtaAJBvWoIAgEsAAIBvAACQQ1oAkFtaggCANQAAgDcAAIBDAACAWwCCAIBPAACARQAAkDdaAJBDWgCQOVoAkFtaAJB3WoIAgDcAAIBDAACQT1qCAIA5AACAWwAAgE8AggCQNVoAkDdaAJBbWoIAgDUAAIA3AACAWwAAkHVaggCQJVoAkD9aggCAWQAAkFNaggCAMwAAgHcAggCQQ1oAkHNaggCQRVoAkEZaAJBVWoIAgEUAAIBGAACAVQAAkEFaAJBRWoIAkFVaggCAJQAAgFUAhACAdQAAgFMAAIBDAACAcwAAkE9aggCATwAAkENaggCAQQAAgEMAAJBPWoIAkEFaggCAPwAAgEEAAJAxWoIAkCVaAJAzWgCQPVoAkD5aAJA/WgCQO1qCAIBRAACAMQAAgCUAAIAzAACAPQAAgD4AAIA/AIIAgE8AAJAlWgCQMVoAkDNaggCAJQAAgDEAAIAzAIIAkGtaggCAOwAAkElaAJBtWgCQR1qEAIBJAACAbQAAkEVaAJAzWoIAkDVaAJBJWoIAgGsAAIA1AACASQAAkHNaAJBDWoIAkDVaggCARwAAgDUAAJBxWoIAkEdaAJAxWoIAgEUAAIBzAACARwCCAJBfWgCQYVoAkHNaggCAQwAAgHEAAIAxAACAXwAAgGEAAIBzAIIAgDMAAJBTWoIAgFMAAJAzWoIAgDMAAJBJWoIAgEkAAJA/WgCQR1qCAJAzWgCQPVqCAIAzAIIAkERaggCARAAAkEVahACAPQCCAJA9WoIAgD0AggCAPwCCAJA/WoIAgD8AAJBVWoIAgEcAAIBFAACAVQAAkEFaggCQR1oAkD9aggCARwAAkF1aggCAPwCCAJBbWoIAkClaggCAQQAAgF0AAIBbAACAKQCIAP8vAA==');\n",
       "                        });\n",
       "                </script>"
      ],
      "text/plain": [
       "<IPython.core.display.HTML object>"
      ]
     },
     "metadata": {},
     "output_type": "display_data"
    },
    {
     "data": {
      "text/html": [
       "\n",
       "                <div id='midiPlayerDiv18978'></div>\n",
       "                <link rel=\"stylesheet\" href=\"//cuthbertLab.github.io/music21j/css/m21.css\"\n",
       "                    type=\"text/css\" />\n",
       "                <script>\n",
       "                require.config({\n",
       "                    paths: {'music21': '//cuthbertLab.github.io/music21j/src/music21'}\n",
       "                });\n",
       "                require(['music21'], function() {\n",
       "                               mp = new music21.miditools.MidiPlayer();\n",
       "                               mp.addPlayer('#midiPlayerDiv18978');\n",
       "                               mp.base64Load('data:audio/midi;base64,TVRoZAAAAAYAAQACBABNVHJrAAAAFAD/UQMHoSAA/1gEBAIYCIgA/y8ATVRyawAABQgA/wMAAOAAQADAAIgAkDxaAJB7WgCQRVqCAIA8AACAewAAgEUAAJA7WoIAkENaAJBFWoIAgEMAAIBFAIIAkBtaAJA/WgCQRVqCAIAbAACAPwAAgEUAhACQS1oAkE1ahACAOwAAgEsAAJAdWoIAkEtaggCASwAAkENaggCQLVoAkEVaAJAzWoIAgB0AAIAtAACARQCCAJBFWoIAgEMAAIBFAACQS1qCAJAxWgCQQ1qCAIAzAACAMQAAgEMAAJB9WgCQcVqEAJBhWgCQc1qCAIBhAACQO1oAkDlaggCAcwAAkGFaAJBjWgCQSVqCAIBNAACQc1qCAIB9AACAOwAAgHMAAJA3WoIAkGVaAJBHWoIAgEsAAIBxAACAYQAAgGMAAIBlAACQIVqCAJBFWoIAgDkAAIBJAACANwAAgEcAAIBFAIIAkDlaAJBFWgCQR1qCAIA5AACARQAAgEcAAJBPWoIAkFFaAJBrWgCQfVqCAIBRAACAawAAgH0AggCQH1oAkGtaggCAIQAAgB8AAIBrAACQTVqCAJAhWgCQa1qCAIAhAACAawAAkD9aggCATwAAgD8AhgCQeVqCAJAzWgCQNVoAkDhaAJA9WgCQe1qCAIAzAACANQAAgDgAAIA9AIIAkDtaAJBTWoIAgHsAAIA7AACAUwCCAJBjWgCQZVqCAIB5AACAYwAAgGUAAJBLWgCQP1qCAJBjWgCQZVqCAIBjAACAZQAAkD1aggCQc1qCAJA5WoIAgE0AAIBLAACAOQCCAIA/AACQdVoAkDVaggCAdQCCAJB1WoQAgD0AAIA1AACAdQCCAJB1WoIAgHMAAIB1AIgAkEdaAJBPWoQAkDNaggCAMwAAkF9aggCQM1qCAJBNWgCQYVqCAIBHAACATwAAgF8AAIBNAACAYQCCAJArWgCQMVoAkEVaAJBHWgCQTVoAkFNaAJBfWgCQYVoAkGlaAJBrWgCQbVoAkG9aggCAMwAAgCsAAIAxAACARQAAgEcAAIBNAACAUwAAgF8AAIBhAACAaQAAgGsAAIBtAACAbwCCAJBfWgCQaVoAkGtaAJBtWgCQb1qCAIBfAACAaQAAgGsAAIBtAACAbwAAkFNaAJA3WoIAgFMAAJBtWgCQb1oAkDVaggCAbQAAgG8AAJBDWgCQRVoAkEtaAJBTWoIAgDUAAIBDAACARQAAgEsAggCQNVoAkENaAJBLWgCQOVqCAIA1AIIAgFMAAIBDAACASwCCAJBJWgCQS1qCAIBJAACASwAAkDtaggCANwAAgDsAAJBEWgCQSVqCAIBEAACASQAAkDdaggCANwAAkDtaAJA/WgCQSVqCAIA7AACAPwAAgEkAAJBXWoIAkDdaAJA7WgCQVVqCAIA5AACAVwAAgDcAAIA7AACAVQCCAJBXWgCQXVqCAIBXAACAXQAAkDtaAJBPWoIAgDsAggCQS1oAkD1aAJBJWgCQO1qCAJBnWoIAgE8AAIBLAACAZwCCAJA/WgCQZVoAkGdaAJBHWoIAgD0AAIA/AACAZQAAgGcAggCQZVoAkGdaggCASQAAgGUAAIBnAIIAkFFaAJBFWoIAkDlaAJBDWoIAgDkAggCARwAAgFEAAJA5WoIAkH1aggCAOwAAgEUAAJArWoIAgDkAAIArAACQRVqCAIB9AACARQAAkCtaggCQLVoAkGdaAJBpWoIAgEMAAIArAACALQAAgGcAAIBpAIgA/y8A');\n",
       "                        });\n",
       "                </script>"
      ],
      "text/plain": [
       "<IPython.core.display.HTML object>"
      ]
     },
     "metadata": {},
     "output_type": "display_data"
    }
   ],
   "source": [
    "from music21 import midi\n",
    "for i in range(n_samples):\n",
    "    mf = midi.MidiFile()\n",
    "    mf.open(f'./compositions/composition{i}.mid') \n",
    "    mf.read()\n",
    "    mf.close()\n",
    "    s = midi.translate.midiFileToStream(mf)\n",
    "    s.show('midi')"
   ]
  },
  {
   "attachments": {},
   "cell_type": "markdown",
   "metadata": {},
   "source": [
    "### Generate music based on an input midi file. \n",
    "This generates a music piece based on the input midi file.\n",
    "- make a midi file and place it in the input_midi folder"
   ]
  },
  {
   "attachments": {},
   "cell_type": "markdown",
   "metadata": {},
   "source": [
    "run function to convert midi file to png file"
   ]
  },
  {
   "cell_type": "code",
   "execution_count": 9,
   "metadata": {},
   "outputs": [
    {
     "name": "stdout",
     "output_type": "stream",
     "text": [
      "['input_midi\\\\tst.mid']\n"
     ]
    }
   ],
   "source": [
    "def extractNote(element):\n",
    "    return int(element.pitch.ps)\n",
    "\n",
    "def extractDuration(element):\n",
    "    return element.duration.quarterLength\n",
    "\n",
    "def get_notes(notes_to_parse):\n",
    "\n",
    "    \"\"\" Get all the notes and chords from the midi files in the ./midi_songs directory \"\"\"\n",
    "    durations = []\n",
    "    notes = []\n",
    "    start = []\n",
    "\n",
    "    for element in notes_to_parse:\n",
    "        if isinstance(element, note.Note):\n",
    "            if element.isRest:\n",
    "                continue\n",
    "\n",
    "            start.append(element.offset)\n",
    "            notes.append(extractNote(element))\n",
    "            durations.append(extractDuration(element))\n",
    "                \n",
    "        elif isinstance(element, chord.Chord):\n",
    "            if element.isRest:\n",
    "                continue\n",
    "            for chord_note in element:\n",
    "                start.append(element.offset)\n",
    "                durations.append(extractDuration(element))\n",
    "                notes.append(extractNote(chord_note))\n",
    "\n",
    "    return {\"start\":start, \"pitch\":notes, \"dur\":durations}\n",
    "\n",
    "def midi2image(midi_path, max_repetitions = float(\"inf\"), resolution = 0.25, lowerBoundNote = 21, upperBoundNote = 127, maxSongLength = 100):\n",
    "    mid = converter.parse(midi_path)\n",
    "\n",
    "    instruments = instrument.partitionByInstrument(mid)\n",
    "\n",
    "    data = {}\n",
    "\n",
    "    try:\n",
    "        i=0\n",
    "        for instrument_i in instruments.parts:\n",
    "            notes_to_parse = instrument_i.recurse()\n",
    "\n",
    "            notes_data = get_notes(notes_to_parse)\n",
    "            if len(notes_data[\"start\"]) == 0:\n",
    "                continue\n",
    "\n",
    "            if instrument_i.partName is None:\n",
    "                data[\"instrument_{}\".format(i)] = notes_data\n",
    "                i+=1\n",
    "            else:\n",
    "                data[instrument_i.partName] = notes_data\n",
    "\n",
    "    except:\n",
    "        notes_to_parse = mid.flat.notes\n",
    "        data[\"instrument_0\"] = get_notes(notes_to_parse)\n",
    "\n",
    "    for instrument_name, values in data.items():\n",
    "        # https://en.wikipedia.org/wiki/Scientific_pitch_notation#Similar_systems\n",
    "\n",
    "        pitches = values[\"pitch\"]\n",
    "        durs = values[\"dur\"]\n",
    "        starts = values[\"start\"]\n",
    "\n",
    "        index = 0\n",
    "        while index < max_repetitions:\n",
    "            matrix = np.zeros((upperBoundNote-lowerBoundNote,maxSongLength))\n",
    "\n",
    "\n",
    "            for dur, start, pitch in zip(durs, starts, pitches):\n",
    "                dur = int(dur/resolution)\n",
    "                start = int(start/resolution)\n",
    "\n",
    "                if not start > index*(maxSongLength+1) or not dur+start < index*maxSongLength:\n",
    "                    for j in range(start,start+dur):\n",
    "                        if j - index*maxSongLength >= 0 and j - index*maxSongLength < maxSongLength:\n",
    "                            matrix[pitch-lowerBoundNote,j - index*maxSongLength] = 255\n",
    "\n",
    "            if matrix.any(): # If matrix contains no notes (only zeros) don't save it\n",
    "                imwrite(midi_path.split(\"/\")[-1].replace(\".mid\",f\".png\"),matrix.astype(np.uint8))\n",
    "                index += 1\n",
    "            else:\n",
    "                break\n",
    "\n",
    "path = 'input_midi/*.mid'\n",
    "files = glob.glob(path)\n",
    "print(files)\n",
    "# midi to image\n",
    "for i in range(len(files)):\n",
    "    midi2image(files[i])"
   ]
  },
  {
   "attachments": {},
   "cell_type": "markdown",
   "metadata": {},
   "source": [
    "Changes shape of the image"
   ]
  },
  {
   "cell_type": "code",
   "execution_count": 10,
   "metadata": {},
   "outputs": [
    {
     "name": "stdout",
     "output_type": "stream",
     "text": [
      "['input_midi\\\\tst.png']\n",
      "(10, 10)\n"
     ]
    }
   ],
   "source": [
    "path = 'input_midi/*.png'\n",
    "files = glob.glob(path)\n",
    "print(files)\n",
    "for i in range(len(files)):\n",
    "    basewidth = 10\n",
    "    img = Image.open(files[i])\n",
    "    hsize = 10\n",
    "    img = img.resize((basewidth,hsize), Image.ANTIALIAS)\n",
    "    print(img.size)\n",
    "    img.save(files[i])"
   ]
  },
  {
   "attachments": {},
   "cell_type": "markdown",
   "metadata": {},
   "source": [
    "Enter the number of the file that you want to generate music for"
   ]
  },
  {
   "cell_type": "code",
   "execution_count": 11,
   "metadata": {},
   "outputs": [
    {
     "name": "stdout",
     "output_type": "stream",
     "text": [
      "number\t file name\n",
      "0 \t input_midi\\tst.png\n"
     ]
    }
   ],
   "source": [
    "print('number\\t file name')\n",
    "for i in range(len(files)):\n",
    "    \n",
    "    print(i,'\\t', files[i])\n",
    "\n",
    "midi = int(input(\"Enter the midi file number you want a sequel to: \"))"
   ]
  },
  {
   "attachments": {},
   "cell_type": "markdown",
   "metadata": {},
   "source": [
    "Gets the pixels of the image so that it can be used as input for the model"
   ]
  },
  {
   "cell_type": "code",
   "execution_count": 12,
   "metadata": {},
   "outputs": [
    {
     "name": "stdout",
     "output_type": "stream",
     "text": [
      "size: (1, 10, 10, 1)\n"
     ]
    }
   ],
   "source": [
    "def access_images(path):\n",
    "    pixels = []\n",
    "    imgs = []\n",
    "    if 'png' in path:\n",
    "        try:\n",
    "            img = Image.open(path, 'r')\n",
    "            img = img.convert('1')\n",
    "            pix = np.array(img.getdata())\n",
    "            pix = pix.astype('float32')\n",
    "            pix /= 255.0\n",
    "            pixels.append(pix.reshape(10,10,1))\n",
    "            imgs.append(img)\n",
    "        except Exception as e:\n",
    "            print(e)\n",
    "    return np.array(pixels),imgs\n",
    "\n",
    "\n",
    "pixels_test, imgs_test = access_images(files[midi])\n",
    "\n",
    "print(\"size:\", pixels_test.shape)"
   ]
  },
  {
   "attachments": {},
   "cell_type": "markdown",
   "metadata": {},
   "source": [
    "change the shape of the image to the shape that the model expects"
   ]
  },
  {
   "cell_type": "code",
   "execution_count": 13,
   "metadata": {},
   "outputs": [
    {
     "name": "stderr",
     "output_type": "stream",
     "text": [
      "c:\\Users\\antje\\anaconda3\\envs\\gan\\lib\\site-packages\\sklearn\\decomposition\\_pca.py:470: RuntimeWarning: invalid value encountered in true_divide\n",
      "  explained_variance_ratio_ = explained_variance_ / total_var\n"
     ]
    }
   ],
   "source": [
    "\n",
    "\n",
    "# reshape image pixels to 2D array\n",
    "pixels_test = pixels_test.reshape(10*10,1)\n",
    "\n",
    "# perform PCA with 100 components\n",
    "pca = PCA(n_components=1, svd_solver='full')\n",
    "pca_model = pca.fit(pixels_test)\n",
    "latent_points_test = pca_model.transform(pixels_test)\n",
    "\n",
    "# # reshape latent_points to (1, 100)\n",
    "latent_points_test = latent_points_test.reshape(1, 100)"
   ]
  },
  {
   "attachments": {},
   "cell_type": "markdown",
   "metadata": {},
   "source": [
    "Generates samples"
   ]
  },
  {
   "cell_type": "code",
   "execution_count": 14,
   "metadata": {},
   "outputs": [],
   "source": [
    "def generated_samples(g_model,n_samples=5, latent_points_test=latent_points_test):\n",
    "    X_list = []\n",
    "    for i in range(n_samples):\n",
    "        # input = latent_points_test*random.uniform(0.5,1.5)\n",
    "        latent_points_test += 0.05 * tf.random.uniform(tf.shape(latent_points_test))\n",
    "        X = g_model.predict(latent_points_test)\n",
    "        X_list.append(X)\n",
    "    return X_list\n",
    "\n",
    "for i in range(n_samples):\n",
    "    X = generated_samples(g_model, n_samples=5)\n",
    "    array = np.array(X[i].reshape(106,106),dtype = np.uint8)\n",
    "    array*= 255\n",
    "    new_image = Image.fromarray(array,'L')\n",
    "    new_image = new_image.save(f'./compositions/composition_examplebased{i}.png')"
   ]
  },
  {
   "attachments": {},
   "cell_type": "markdown",
   "metadata": {},
   "source": [
    "Converts the samples to midi files"
   ]
  },
  {
   "cell_type": "code",
   "execution_count": 15,
   "metadata": {},
   "outputs": [],
   "source": [
    "for i in range(n_samples):\n",
    "    image2midi(f'./compositions/composition_examplebased{i}.png')"
   ]
  },
  {
   "attachments": {},
   "cell_type": "markdown",
   "metadata": {},
   "source": [
    "plays the midi files. the midi files are in the folder compositions. The filename looks like this: \n",
    "- composition_examplebased[number of different midifiles].mid"
   ]
  },
  {
   "cell_type": "code",
   "execution_count": 16,
   "metadata": {},
   "outputs": [
    {
     "data": {
      "text/html": [
       "\n",
       "                <div id='midiPlayerDiv19517'></div>\n",
       "                <link rel=\"stylesheet\" href=\"//cuthbertLab.github.io/music21j/css/m21.css\"\n",
       "                    type=\"text/css\" />\n",
       "                <script>\n",
       "                require.config({\n",
       "                    paths: {'music21': '//cuthbertLab.github.io/music21j/src/music21'}\n",
       "                });\n",
       "                require(['music21'], function() {\n",
       "                               mp = new music21.miditools.MidiPlayer();\n",
       "                               mp.addPlayer('#midiPlayerDiv19517');\n",
       "                               mp.base64Load('data:audio/midi;base64,TVRoZAAAAAYAAQACBABNVHJrAAAAFAD/UQMHoSAA/1gEBAIYCIgA/y8ATVRyawAAAEIA/wMAAOAAQADAAIgAkDxaggCAPACWAJA3Wo4AgDcAqgCQT1qCAIBPANwAkD9aggCAPwCCAJA/WoYAgD8AiAD/LwA=');\n",
       "                        });\n",
       "                </script>"
      ],
      "text/plain": [
       "<IPython.core.display.HTML object>"
      ]
     },
     "metadata": {},
     "output_type": "display_data"
    },
    {
     "data": {
      "text/html": [
       "\n",
       "                <div id='midiPlayerDiv19621'></div>\n",
       "                <link rel=\"stylesheet\" href=\"//cuthbertLab.github.io/music21j/css/m21.css\"\n",
       "                    type=\"text/css\" />\n",
       "                <script>\n",
       "                require.config({\n",
       "                    paths: {'music21': '//cuthbertLab.github.io/music21j/src/music21'}\n",
       "                });\n",
       "                require(['music21'], function() {\n",
       "                               mp = new music21.miditools.MidiPlayer();\n",
       "                               mp.addPlayer('#midiPlayerDiv19621');\n",
       "                               mp.base64Load('data:audio/midi;base64,TVRoZAAAAAYAAQACBABNVHJrAAAAFAD/UQMHoSAA/1gEBAIYCIgA/y8ATVRyawAAAC8A/wMAAOAAQADAAIgAkDxaggCAPACYAJA3WowAgDcAgYwAkD9ahACAPwCIAP8vAA==');\n",
       "                        });\n",
       "                </script>"
      ],
      "text/plain": [
       "<IPython.core.display.HTML object>"
      ]
     },
     "metadata": {},
     "output_type": "display_data"
    },
    {
     "data": {
      "text/html": [
       "\n",
       "                <div id='midiPlayerDiv19816'></div>\n",
       "                <link rel=\"stylesheet\" href=\"//cuthbertLab.github.io/music21j/css/m21.css\"\n",
       "                    type=\"text/css\" />\n",
       "                <script>\n",
       "                require.config({\n",
       "                    paths: {'music21': '//cuthbertLab.github.io/music21j/src/music21'}\n",
       "                });\n",
       "                require(['music21'], function() {\n",
       "                               mp = new music21.miditools.MidiPlayer();\n",
       "                               mp.addPlayer('#midiPlayerDiv19816');\n",
       "                               mp.base64Load('data:audio/midi;base64,TVRoZAAAAAYAAQACBABNVHJrAAAAFAD/UQMHoSAA/1gEBAIYCIgA/y8ATVRyawAAAFYA/wMAAOAAQADAAIgAkDxaggCAPACYAJA3WoIAgDcAggCQN1qCAIA3AIIAkDdaggCANwCOAJA5WoIAgDkAggCQOVqCAIA5APoAkD9ahgCAPwCIAP8vAA==');\n",
       "                        });\n",
       "                </script>"
      ],
      "text/plain": [
       "<IPython.core.display.HTML object>"
      ]
     },
     "metadata": {},
     "output_type": "display_data"
    },
    {
     "data": {
      "text/html": [
       "\n",
       "                <div id='midiPlayerDiv19942'></div>\n",
       "                <link rel=\"stylesheet\" href=\"//cuthbertLab.github.io/music21j/css/m21.css\"\n",
       "                    type=\"text/css\" />\n",
       "                <script>\n",
       "                require.config({\n",
       "                    paths: {'music21': '//cuthbertLab.github.io/music21j/src/music21'}\n",
       "                });\n",
       "                require(['music21'], function() {\n",
       "                               mp = new music21.miditools.MidiPlayer();\n",
       "                               mp.addPlayer('#midiPlayerDiv19942');\n",
       "                               mp.base64Load('data:audio/midi;base64,TVRoZAAAAAYAAQACBABNVHJrAAAAFAD/UQMHoSAA/1gEBAIYCIgA/y8ATVRyawAAADgA/wMAAOAAQADAAIgAkDxaggCAPACcAJA3WogAgDcAjACQOVqCAIA5AIIAkDlahACAOQCIAP8vAA==');\n",
       "                        });\n",
       "                </script>"
      ],
      "text/plain": [
       "<IPython.core.display.HTML object>"
      ]
     },
     "metadata": {},
     "output_type": "display_data"
    },
    {
     "data": {
      "text/html": [
       "\n",
       "                <div id='midiPlayerDiv20309'></div>\n",
       "                <link rel=\"stylesheet\" href=\"//cuthbertLab.github.io/music21j/css/m21.css\"\n",
       "                    type=\"text/css\" />\n",
       "                <script>\n",
       "                require.config({\n",
       "                    paths: {'music21': '//cuthbertLab.github.io/music21j/src/music21'}\n",
       "                });\n",
       "                require(['music21'], function() {\n",
       "                               mp = new music21.miditools.MidiPlayer();\n",
       "                               mp.addPlayer('#midiPlayerDiv20309');\n",
       "                               mp.base64Load('data:audio/midi;base64,TVRoZAAAAAYAAQACBABNVHJrAAAAFAD/UQMHoSAA/1gEBAIYCIgA/y8ATVRyawAAAIQA/wMAAOAAQADAAIgAkDxaggCAPACUAJBBWgCQQ1qCAIBBAACAQwCCAJBBWoQAgEEAAJA3WoIAgDcAggCQN1qEAIA3AIwAkDlaggCAOQCCAJA5WoQAgDkAhACQS1qCAIBLAIIAkEtaAJBDWoIAgEsAigCAQwDoAJA/WoQAgD8AiAD/LwA=');\n",
       "                        });\n",
       "                </script>"
      ],
      "text/plain": [
       "<IPython.core.display.HTML object>"
      ]
     },
     "metadata": {},
     "output_type": "display_data"
    }
   ],
   "source": [
    "from music21 import midi\n",
    "for i in range(n_samples):\n",
    "    mf = midi.MidiFile()\n",
    "    mf.open(f'./compositions/composition_examplebased{i}.mid') \n",
    "    mf.read()\n",
    "    mf.close()\n",
    "    s = midi.translate.midiFileToStream(mf)\n",
    "    s.show('midi')"
   ]
  },
  {
   "attachments": {},
   "cell_type": "markdown",
   "metadata": {},
   "source": [
    "# Creat a song with a synth sound from the magenta model."
   ]
  },
  {
   "attachments": {},
   "cell_type": "markdown",
   "metadata": {},
   "source": [
    "Make a new conda environment with python 3.8\n",
    "And install the following packages:\n",
    "- magenta\n",
    "- tensorflow_gan"
   ]
  },
  {
   "cell_type": "code",
   "execution_count": null,
   "metadata": {},
   "outputs": [],
   "source": [
    "! gansynth_generate --ckpt_dir=mymodel --output_dir=generated_song --midi_file=compositions/composition_examplebased0.mid"
   ]
  }
 ],
 "metadata": {
  "kernelspec": {
   "display_name": "ganmagenta",
   "language": "python",
   "name": "python3"
  },
  "language_info": {
   "codemirror_mode": {
    "name": "ipython",
    "version": 3
   },
   "file_extension": ".py",
   "mimetype": "text/x-python",
   "name": "python",
   "nbconvert_exporter": "python",
   "pygments_lexer": "ipython3",
   "version": "3.8.16"
  },
  "orig_nbformat": 4,
  "vscode": {
   "interpreter": {
    "hash": "3bc1e6d71c84b797f1f9aa3690d24cdcf05ef8653d69d9e2ed643886152c194d"
   }
  }
 },
 "nbformat": 4,
 "nbformat_minor": 2
}
